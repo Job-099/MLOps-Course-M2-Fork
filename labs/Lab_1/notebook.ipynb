{
 "cells": [
  {
   "cell_type": "markdown",
   "metadata": {},
   "source": [
    "## End-to-End Machine Learning Pipeline  with Data Analysis\n",
    "This hands-on lab will guide you through creating an end-to-end machine learning pipeline in Python using Jupyter Notebook. We will cover the following steps:\n",
    "\n",
    "\t1.\tInstalling and importing necessary libraries.\n",
    "\t2.\tDownloading and collecting a dataset.\n",
    "\t3.\tPerforming and Exploratory Data Analysis\n",
    "\t4.\tProcessing the data (cleaning and feature engineering).\n",
    "\t5.\tModel Development:\n",
    "\t\t•\tPipeline Setup: We defined a pipeline for data preprocessing, feature engineering, and model training.\n",
    "\t\t•\tMultiple Models: Logistic Regression, Random Forest, and SVM models were tested.\n",
    "\t\t•\tHyperparameter Tuning: GridSearchCV was used to find the best model and hyperparameters.\n",
    "\t\t•\tModel Evaluation: The best model was evaluated on the test set, and its performance was analyzed.\n",
    "\t\t•\tInference Pipeline: The best model was saved and loaded into an inference pipeline, which can be deployed via an API for real-time predictions."
   ]
  },
  {
   "cell_type": "markdown",
   "metadata": {},
   "source": [
    "### 1. Installing the Libraries\n",
    "\n",
    "(If you’ve already installed these libraries, you can skip this step.)"
   ]
  },
  {
   "cell_type": "code",
   "execution_count": null,
   "metadata": {},
   "outputs": [],
   "source": [
    "# !pip install pandas numpy scikit-learn joblib flask matplotlib seaborn"
   ]
  },
  {
   "cell_type": "markdown",
   "metadata": {},
   "source": [
    "### 2. Importing the Necessary Libraries"
   ]
  },
  {
   "cell_type": "code",
   "execution_count": null,
   "metadata": {},
   "outputs": [],
   "source": [
    "import pandas as pd\n",
    "import numpy as np\n",
    "import matplotlib.pyplot as plt\n",
    "import seaborn as sns\n",
    "from sklearn.model_selection import train_test_split, GridSearchCV\n",
    "from sklearn.pipeline import Pipeline\n",
    "from sklearn.compose import ColumnTransformer\n",
    "from sklearn.preprocessing import StandardScaler, FunctionTransformer\n",
    "from sklearn.linear_model import LogisticRegression\n",
    "from sklearn.metrics import accuracy_score, classification_report, confusion_matrix\n",
    "from joblib import dump\n"
   ]
  },
  {
   "cell_type": "markdown",
   "metadata": {},
   "source": [
    "### 3. Data Preprocessing\n",
    "#### A. Data Collection"
   ]
  },
  {
   "cell_type": "code",
   "execution_count": null,
   "metadata": {},
   "outputs": [],
   "source": [
    "def get_data():\n",
    "    from sklearn.datasets import load_breast_cancer\n",
    "    data = load_breast_cancer(as_frame=True)\n",
    "    df = pd.concat([data['data'], data['target']], axis=1)\n",
    "    return df\n",
    "\n",
    "# Load the Breast Cancer Wisconsin dataset\n",
    "data = get_data()\n",
    "\n",
    "# Display the first few rows\n",
    "data.head()"
   ]
  },
  {
   "cell_type": "markdown",
   "metadata": {},
   "source": [
    "#### B. Exploratory Data Analysis (EDA)\n",
    "\n",
    "Let’s perform some data analysis to understand the distribution of the features and their relationships with the target variable."
   ]
  },
  {
   "cell_type": "code",
   "execution_count": null,
   "metadata": {},
   "outputs": [],
   "source": [
    "# Distribution of the target variable\n",
    "sns.countplot(x=data['target'])\n",
    "plt.title('Distribution of Target Variable (Malignant vs Benign)')\n",
    "plt.show()\n"
   ]
  },
  {
   "cell_type": "markdown",
   "metadata": {},
   "source": [
    "#### C. Mutual information and feature importance:\n",
    "- mutual_info_classif: This function calculates the mutual information between each feature and the target, which helps in identifying how much information each feature contributes to predicting the target.\n",
    "- Visualization: The code creates a bar plot to visualize the importance of each feature based on mutual information scores."
   ]
  },
  {
   "cell_type": "code",
   "execution_count": null,
   "metadata": {},
   "outputs": [],
   "source": [
    "from sklearn.feature_selection import mutual_info_classif\n",
    "\n",
    "# Split the data into features and target\n",
    "X = data.drop(\"target\", axis=1)\n",
    "y = data[\"target\"]\n",
    "\n",
    "def Show_Feature_Score(X,y):\n",
    "    # Compute the mutual information scores\n",
    "    mi_scores = mutual_info_classif(X, y, random_state=42)\n",
    "\n",
    "    # Create a DataFrame to display the scores\n",
    "    mi_scores_df = pd.DataFrame({\n",
    "        'Feature': X.columns,\n",
    "        'Mutual Information': mi_scores\n",
    "    })\n",
    "\n",
    "    # Sort the DataFrame by mutual information scores\n",
    "    mi_scores_df = mi_scores_df.sort_values(by='Mutual Information', ascending=False)\n",
    "\n",
    "    # Visualize the mutual information scores\n",
    "    plt.figure(figsize=(10, 6))\n",
    "    sns.barplot(x='Mutual Information', y='Feature', data=mi_scores_df, palette=\"viridis\")\n",
    "    plt.title('Mutual Information Scores for Each Feature')\n",
    "    plt.show()\n",
    "\n",
    "Show_Feature_Score(X,y)"
   ]
  },
  {
   "cell_type": "markdown",
   "metadata": {},
   "source": [
    "#### D. Feature Engineering"
   ]
  },
  {
   "cell_type": "code",
   "execution_count": null,
   "metadata": {},
   "outputs": [],
   "source": [
    "def add_combined_feature(X):\n",
    "    X = X.copy()  # Ensure we're modifying a copy of the DataFrame\n",
    "    \n",
    "    # Example feature: combining two features\n",
    "    X['Combined_radius_texture'] = X['mean radius'] * X['mean texture']\n",
    "    \n",
    "    return X"
   ]
  },
  {
   "cell_type": "markdown",
   "metadata": {},
   "source": [
    "### 3. Model Development\n",
    "\n",
    "#### A. Build the Training Pipeline"
   ]
  },
  {
   "cell_type": "code",
   "execution_count": null,
   "metadata": {},
   "outputs": [],
   "source": [
    "from sklearn.preprocessing import FunctionTransformer\n",
    "\n",
    "# Define the feature engineering and preprocessing pipeline\n",
    "preprocessing_pipeline = Pipeline([\n",
    "    ('feature_engineering', FunctionTransformer(add_combined_feature)),\n",
    "    ('scaler', StandardScaler())\n",
    "])\n",
    "\n",
    "# Define the models and their hyperparameters for GridSearchCV\n",
    "models = [\n",
    "    {\n",
    "        'classifier': [LogisticRegression(max_iter=1000)],\n",
    "        'classifier__C': [0.1, 1.0, 10]\n",
    "    }\n",
    "]\n",
    "\n",
    "# Updated pipeline with additional feature engineering and data transformation steps\n",
    "training_pipeline = Pipeline(steps=[\n",
    "    ('preprocessing', preprocessing_pipeline),\n",
    "    ('classifier', LogisticRegression()) # Placeholder, will be replaced by GridSearchCV\n",
    "])\n",
    "\n",
    "# Split the data into training and testing sets\n",
    "X = data.drop(columns=['target'])\n",
    "y = data['target']\n",
    "X_train, X_test, y_train, y_test = train_test_split(X, y, test_size=0.3, random_state=42)"
   ]
  },
  {
   "cell_type": "markdown",
   "metadata": {},
   "source": [
    "#### B. Hyperparameter Tuning and Model Selection"
   ]
  },
  {
   "cell_type": "code",
   "execution_count": null,
   "metadata": {},
   "outputs": [],
   "source": [
    "# Use GridSearchCV to find the best model and hyperparameters\n",
    "grid_search = GridSearchCV(training_pipeline, models, cv=5, n_jobs=-1, verbose=1)\n",
    "grid_search.fit(X_train, y_train)\n",
    "\n",
    "# Print the best parameters and the corresponding score\n",
    "print(f\"Best parameters found: {grid_search.best_params_}\")\n",
    "print(f\"Best cross-validation score: {grid_search.best_score_:.2f}\")\n",
    "\n",
    "# Best model\n",
    "best_model = grid_search.best_estimator_"
   ]
  },
  {
   "cell_type": "markdown",
   "metadata": {},
   "source": [
    "#### C. Evaluate the Best Model"
   ]
  },
  {
   "cell_type": "code",
   "execution_count": null,
   "metadata": {},
   "outputs": [],
   "source": [
    "def evaluate_model(model, X_test, y_test):\n",
    "\n",
    "    # Make predictions on the test set\n",
    "    y_pred = model.predict(X_test)\n",
    "    # Evaluate the model's performance\n",
    "    print(f\"Test Accuracy: {accuracy_score(y_test, y_pred):.2f}\")\n",
    "    print(\"Classification Report:\")\n",
    "    print(classification_report(y_test, y_pred))\n",
    "\n",
    "    # Confusion Matrix\n",
    "    conf_matrix = confusion_matrix(y_test, y_pred)\n",
    "    plt.figure(figsize=(8, 6))\n",
    "    sns.heatmap(conf_matrix, annot=True, fmt='d', cmap='Blues')\n",
    "    plt.title('Confusion Matrix')\n",
    "    plt.xlabel('Predicted')\n",
    "    plt.ylabel('Actual')\n",
    "    plt.show()"
   ]
  },
  {
   "cell_type": "code",
   "execution_count": null,
   "metadata": {},
   "outputs": [],
   "source": [
    "# Evaluate the best Model\n",
    "evaluate_model(best_model, X_test, y_test)"
   ]
  },
  {
   "cell_type": "code",
   "execution_count": null,
   "metadata": {},
   "outputs": [],
   "source": [
    "# Save the best model and the preprocessing steps\n",
    "dump(best_model, 'best_cancer_model_pipeline.joblib')"
   ]
  },
  {
   "cell_type": "markdown",
   "metadata": {},
   "source": [
    "## Create a new pipeline, with a different feature engineering, and different models:\n",
    "1- Random Forest:\n",
    "\n",
    "from sklearn.ensemble import RandomForestClassifier\n",
    "\n",
    "with : \n",
    "- number_estimator: 50, 100, 200\n",
    "- max_depth = None, 10, 20\n",
    "\n",
    "2- Support Vector Classifier: \n",
    "\n",
    "from sklearn.svm import SVC\n",
    "\n",
    "with:\n",
    "- C : 0.1, 1, 10\n",
    "- kernel: linear, rbf"
   ]
  },
  {
   "cell_type": "markdown",
   "metadata": {},
   "source": []
  },
  {
   "cell_type": "code",
   "execution_count": 2,
   "metadata": {},
   "outputs": [
    {
     "name": "stdout",
     "output_type": "stream",
     "text": [
      "RF best params: {'clf__max_depth': None, 'clf__n_estimators': 100} metrics: {'accuracy': 0.9473684210526315, 'f1_macro': 0.9434523809523809}\n",
      "SVC best params: {'clf__C': 10, 'clf__kernel': 'rbf'} metrics: {'accuracy': 0.9649122807017544, 'f1_macro': 0.9623015873015872}\n",
      "BEST: svc {'accuracy': 0.9649122807017544, 'f1_macro': 0.9623015873015872} {'clf__C': 10, 'clf__kernel': 'rbf'}\n"
     ]
    }
   ],
   "source": [
    "# --- Nouveau pipeline complet : features + RF + SVC + sauvegarde ---\n",
    "import os, json, warnings\n",
    "warnings.filterwarnings(\"ignore\")\n",
    "import numpy as np, pandas as pd\n",
    "from sklearn.datasets import load_breast_cancer\n",
    "from sklearn.model_selection import train_test_split, GridSearchCV\n",
    "from sklearn.preprocessing import StandardScaler\n",
    "from sklearn.compose import ColumnTransformer\n",
    "from sklearn.pipeline import Pipeline\n",
    "from sklearn.metrics import accuracy_score, f1_score, classification_report\n",
    "from sklearn.feature_selection import mutual_info_classif\n",
    "from sklearn.ensemble import RandomForestClassifier\n",
    "from sklearn.svm import SVC\n",
    "from joblib import dump\n",
    "\n",
    "data = load_breast_cancer(as_frame=True)\n",
    "df = data.frame.copy()\n",
    "y = df[\"target\"]\n",
    "X = df.drop(columns=[\"target\"])\n",
    "\n",
    "X_train, X_test, y_train, y_test = train_test_split(\n",
    "    X, y, test_size=0.2, random_state=42, stratify=y\n",
    ")\n",
    "\n",
    "# Nouvelle feature\n",
    "X_train[\"Combined_radius_texture\"] = X_train[\"mean radius\"] * X_train[\"mean texture\"]\n",
    "X_test[\"Combined_radius_texture\"]  = X_test[\"mean radius\"]  * X_test[\"mean texture\"]\n",
    "\n",
    "# Sélection MI (top 20)\n",
    "mi = pd.Series(mutual_info_classif(X_train, y_train, random_state=42), index=X_train.columns).sort_values(ascending=False)\n",
    "selected = mi.head(min(20, len(mi))).index.tolist()\n",
    "X_train_sel, X_test_sel = X_train[selected], X_test[selected]\n",
    "\n",
    "# Préprocesseurs\n",
    "preproc_rf = ColumnTransformer([(\"num\", \"passthrough\", selected)])\n",
    "preproc_svc = ColumnTransformer([(\"num\", StandardScaler(), selected)])\n",
    "\n",
    "# Pipeline RandomForest (grille imposée)\n",
    "pipe_rf = Pipeline([(\"prep\", preproc_rf), (\"clf\", RandomForestClassifier(random_state=42))])\n",
    "param_rf = {\"clf__n_estimators\":[50,100,200], \"clf__max_depth\":[None,10,20]}\n",
    "gs_rf = GridSearchCV(pipe_rf, param_rf, cv=5, n_jobs=-1, scoring=\"f1_macro\")\n",
    "gs_rf.fit(X_train_sel, y_train)\n",
    "y_pred_rf = gs_rf.predict(X_test_sel)\n",
    "metrics_rf = {\"accuracy\": accuracy_score(y_test, y_pred_rf), \"f1_macro\": f1_score(y_test, y_pred_rf, average=\"macro\")}\n",
    "\n",
    "# Pipeline SVC (grille imposée)\n",
    "pipe_svc = Pipeline([(\"prep\", preproc_svc), (\"clf\", SVC(probability=True, random_state=42))])\n",
    "param_svc = {\"clf__C\":[0.1,1,10], \"clf__kernel\":[\"linear\",\"rbf\"]}\n",
    "gs_svc = GridSearchCV(pipe_svc, param_svc, cv=5, n_jobs=-1, scoring=\"f1_macro\")\n",
    "gs_svc.fit(X_train_sel, y_train)\n",
    "y_pred_svc = gs_svc.predict(X_test_sel)\n",
    "metrics_svc = {\"accuracy\": accuracy_score(y_test, y_pred_svc), \"f1_macro\": f1_score(y_test, y_pred_svc, average=\"macro\")}\n",
    "\n",
    "# Choix + sauvegarde (nom attendu par l’API)\n",
    "best_name, best_est, best_metrics, best_params = (\n",
    "    (\"rf\", gs_rf.best_estimator_, metrics_rf, gs_rf.best_params_)\n",
    "    if metrics_rf[\"f1_macro\"] >= metrics_svc[\"f1_macro\"]\n",
    "    else (\"svc\", gs_svc.best_estimator_, metrics_svc, gs_svc.best_params_)\n",
    ")\n",
    "dump(best_est, \"best_cancer_model_pipeline.joblib\")\n",
    "with open(\"metrics.json\",\"w\") as f: json.dump(best_metrics, f)\n",
    "with open(\"features.json\",\"w\") as f: json.dump({\"selected\": selected, \"note\":\"includes Combined_radius_texture\"}, f)\n",
    "\n",
    "print(\"RF best params:\", gs_rf.best_params_, \"metrics:\", metrics_rf)\n",
    "print(\"SVC best params:\", gs_svc.best_params_, \"metrics:\", metrics_svc)\n",
    "print(\"BEST:\", best_name, best_metrics, best_params)\n"
   ]
  },
  {
   "cell_type": "code",
   "execution_count": null,
   "metadata": {},
   "outputs": [],
   "source": []
  }
 ],
 "metadata": {
  "kernelspec": {
   "display_name": "mlops_lab",
   "language": "python",
   "name": "mlops_lab"
  },
  "language_info": {
   "codemirror_mode": {
    "name": "ipython",
    "version": 3
   },
   "file_extension": ".py",
   "mimetype": "text/x-python",
   "name": "python",
   "nbconvert_exporter": "python",
   "pygments_lexer": "ipython3",
   "version": "3.11.2"
  }
 },
 "nbformat": 4,
 "nbformat_minor": 4
}
